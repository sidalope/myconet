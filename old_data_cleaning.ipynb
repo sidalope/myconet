{
 "cells": [
  {
   "cell_type": "markdown",
   "id": "2ac9d1c4-7ef9-4168-99c6-8add264398ea",
   "metadata": {},
   "source": [
    "## Clean old data"
   ]
  },
  {
   "cell_type": "markdown",
   "id": "08c4d5ed-3e81-452c-94cc-33a511233aed",
   "metadata": {
    "tags": []
   },
   "source": [
    "##### Fix old date format"
   ]
  },
  {
   "cell_type": "code",
   "execution_count": null,
   "id": "4a5ddbd6-12c2-457c-9dd6-c39a0070d42e",
   "metadata": {},
   "outputs": [],
   "source": [
    "import os\n",
    "import pandas as pd\n",
    "from datetime import datetime"
   ]
  },
  {
   "cell_type": "code",
   "execution_count": null,
   "id": "c3e8ddc9-6f9a-4b1e-b62c-afc144afd23f",
   "metadata": {},
   "outputs": [],
   "source": [
    "#pd.to_datetime('2018-10-26 12:00:00.0000000011', format='%Y-%m-%d %H:%M:%S.%f')"
   ]
  },
  {
   "cell_type": "code",
   "execution_count": null,
   "id": "9a78aef2-3e62-4361-a841-21a9924e3015",
   "metadata": {},
   "outputs": [],
   "source": [
    "def clean_date(date_string):\n",
    "    return f\"{date_string[6:10]}-{date_string[3:5]}-{date_string[0:2]} {date_string[11:19]}\""
   ]
  },
  {
   "cell_type": "code",
   "execution_count": null,
   "id": "f1d8616c-1019-42b1-be72-5d2194d8edbd",
   "metadata": {},
   "outputs": [],
   "source": [
    "clean_data = pd.DataFrame()"
   ]
  },
  {
   "cell_type": "code",
   "execution_count": null,
   "id": "c76b025d-ddaa-4735-8d14-03961308ccc2",
   "metadata": {
    "tags": []
   },
   "outputs": [],
   "source": [
    "# Create collected_data_0_old_format; clean files with old date format\n",
    "\n",
    "dfs = []\n",
    "for file in os.listdir(f\"{os.getcwd()}/archived_sensor_data/old_date_format/\"):\n",
    "    if file.endswith(\".csv\"):\n",
    "        buffer_df = pd.read_csv(f\"{os.getcwd()}/archived_sensor_data/old_date_format/{file}\")\n",
    "        buffer_df.columns = ['time', 'co2(ppm)', 'temperature(°C)', 'rel_humidity(percent)']\n",
    "        buffer_df[\"time\"] = buffer_df[\"time\"].apply(clean_date).apply(pd.to_datetime)\n",
    "        buffer_df.set_index(\"time\", inplace=True)\n",
    "        dfs.append(buffer_df)\n",
    "\n",
    "print(dfs)\n",
    "dfs = pd.concat(dfs)\n",
    "dfs.sort_index(ascending=True, inplace=True)\n",
    "dfs.to_csv(f\"data/collected_data_0_old_format.csv\")"
   ]
  },
  {
   "cell_type": "code",
   "execution_count": null,
   "id": "1fc5102c-0df2-4da7-a55d-cc322f480efb",
   "metadata": {},
   "outputs": [],
   "source": [
    "def parse_date(date_string):\n",
    "    return f\"{date_string[0:4]}-{date_string[5:7]}-{date_string[8:10]} {date_string[11:19]}\""
   ]
  },
  {
   "cell_type": "code",
   "execution_count": null,
   "id": "035a033b-e608-4e5b-8050-65fe2dd129d1",
   "metadata": {},
   "outputs": [],
   "source": [
    "# Create collected_data_00_old_format; clean files with old date format\n",
    "\n",
    "dfs = []\n",
    "for file in os.listdir(f\"{os.getcwd()}/archived_sensor_data/\"):\n",
    "    if file.endswith(\".csv\"):\n",
    "        buffer_df = pd.read_csv(f\"{os.getcwd()}/archived_sensor_data/{file}\")\n",
    "        buffer_df.columns = ['time', 'co2(ppm)', 'temperature(°C)', 'rel_humidity(percent)']\n",
    "        buffer_df[\"time\"] = buffer_df[\"time\"].apply(parse_date).apply(pd.to_datetime, args=(\"coerce\",))\n",
    "        dfs.append(buffer_df)\n",
    "\n",
    "dfs = pd.concat(dfs)\n",
    "\n",
    "# Drop null entries\n",
    "null_indexes = dfs[dfs[\"time\"].isnull()].index\n",
    "dfs.drop(null_indexes[0], inplace=True)\n",
    "\n",
    "dfs.set_index(\"time\", inplace=True)\n",
    "dfs.sort_index(ascending=True, inplace=True)\n",
    "dfs.to_csv(f\"data/collected_data_00_old_format.csv\")"
   ]
  }
 ],
 "metadata": {
  "kernelspec": {
   "display_name": "Python 3 (ipykernel)",
   "language": "python",
   "name": "python3"
  },
  "language_info": {
   "codemirror_mode": {
    "name": "ipython",
    "version": 3
   },
   "file_extension": ".py",
   "mimetype": "text/x-python",
   "name": "python",
   "nbconvert_exporter": "python",
   "pygments_lexer": "ipython3",
   "version": "3.10.6"
  }
 },
 "nbformat": 4,
 "nbformat_minor": 5
}
