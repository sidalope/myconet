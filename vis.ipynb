{
 "cells": [
  {
   "cell_type": "markdown",
   "id": "8593fd44-33ac-41a6-8da7-d21ef957da39",
   "metadata": {
    "tags": []
   },
   "source": [
    "# Porcaccio Data Visualisations"
   ]
  },
  {
   "cell_type": "markdown",
   "id": "44802b33-c87e-4f6f-933d-f9d9441fc6aa",
   "metadata": {},
   "source": [
    "#### Data Collection And Cleaning"
   ]
  },
  {
   "cell_type": "markdown",
   "id": "8ab61a6c-f0a5-48a3-85a4-d3a63948d7f9",
   "metadata": {},
   "source": [
    "---------\n"
   ]
  },
  {
   "cell_type": "code",
   "execution_count": null,
   "id": "9eb799ae-ef62-44be-9b73-87038108803b",
   "metadata": {},
   "outputs": [],
   "source": [
    "import os\n",
    "import pandas as pd\n",
    "import matplotlib.pyplot as plt"
   ]
  },
  {
   "cell_type": "markdown",
   "id": "595e30c0-7204-4340-9e57-f206c3e6c104",
   "metadata": {},
   "source": [
    "##### Fix old date format"
   ]
  },
  {
   "cell_type": "code",
   "execution_count": null,
   "id": "d26fd9c8-7392-4e9d-853d-d9d4bf700af5",
   "metadata": {},
   "outputs": [],
   "source": [
    "#pd.to_datetime('2018-10-26 12:00:00.0000000011', format='%Y-%m-%d %H:%M:%S.%f')"
   ]
  },
  {
   "cell_type": "code",
   "execution_count": null,
   "id": "b7592eb6-6853-4cdd-9da0-e915df33fe14",
   "metadata": {},
   "outputs": [],
   "source": [
    "def clean_date(date_string):\n",
    "    return f\"{date_string[6:10]}-{date_string[3:5]}-{date_string[0:2]} {date_string[11:19]}\""
   ]
  },
  {
   "cell_type": "code",
   "execution_count": null,
   "id": "699a2c16-1bb1-4cdb-a7e5-6bf9c2e8b826",
   "metadata": {},
   "outputs": [],
   "source": [
    "clean_data = pd.DataFrame()"
   ]
  },
  {
   "cell_type": "code",
   "execution_count": null,
   "id": "61d89140-920c-48bb-81da-97ad236434a5",
   "metadata": {
    "tags": []
   },
   "outputs": [],
   "source": [
    "# Clean all files in archived_sensor_data\n",
    "dfs = []\n",
    "for file in os.listdir(f\"{os.getcwd()}/archived_sensor_data/csv/\"):\n",
    "    if file.endswith(\".csv\"):\n",
    "        buffer_df = pd.read_csv(f\"{os.getcwd()}/archived_sensor_data/csv/{file}\")\n",
    "        #print(buffer_df.head())\n",
    "        buffer_df.columns = ['time', 'co2(ppm)', 'temperature(°C)', 'rel_humidity(percent)']\n",
    "        #print(buffer_df.head())\n",
    "        buffer_df[\"time\"] = buffer_df[\"time\"].apply(clean_date).apply(pd.to_datetime)\n",
    "        buffer_df.set_index(\"time\", inplace=True)\n",
    "        #print(buffer_df.head())\n",
    "        dfs.append(buffer_df)\n",
    "\n",
    "print(dfs)"
   ]
  },
  {
   "cell_type": "code",
   "execution_count": null,
   "id": "92007e46-1107-418c-981f-9ddeca0f6e70",
   "metadata": {},
   "outputs": [],
   "source": [
    "clean_df = pd.concat(dfs)"
   ]
  },
  {
   "cell_type": "code",
   "execution_count": null,
   "id": "9b382612-7075-4bbd-8b58-d6617fd7222f",
   "metadata": {},
   "outputs": [],
   "source": [
    "clean_df.sort_index(ascending=True, inplace=True)"
   ]
  },
  {
   "cell_type": "code",
   "execution_count": null,
   "id": "88219c7a-073d-46d5-8665-6d9dc539886d",
   "metadata": {
    "tags": []
   },
   "outputs": [],
   "source": [
    "clean_df.info()"
   ]
  },
  {
   "cell_type": "code",
   "execution_count": null,
   "id": "5c482de5-1b3d-4688-8dda-e413f4f22142",
   "metadata": {},
   "outputs": [],
   "source": [
    "clean_df.to_csv(\"data/collected_data.csv\")"
   ]
  },
  {
   "cell_type": "markdown",
   "id": "e42dfc7a-66ff-42b6-b611-7b3a4beaf397",
   "metadata": {},
   "source": [
    "#### Visualisations"
   ]
  },
  {
   "cell_type": "markdown",
   "id": "88eebad2-3af8-44b5-81f6-8fab8cf58c08",
   "metadata": {},
   "source": [
    "---------"
   ]
  },
  {
   "cell_type": "code",
   "execution_count": null,
   "id": "dcb7ebf6-ead5-4a6c-b796-e5cccb145d26",
   "metadata": {},
   "outputs": [],
   "source": [
    "clean_df.columns"
   ]
  },
  {
   "cell_type": "code",
   "execution_count": null,
   "id": "33e79ed2-3496-4b4b-a43c-579329febf10",
   "metadata": {
    "tags": []
   },
   "outputs": [],
   "source": [
    "for column in clean_df.columns:\n",
    "    plt.plot(clean_df[column])\n",
    "    plt.title(column)\n",
    "    plt.savefig(f\"images/visualisations/{column}.png\", format=\"png\")\n",
    "    plt.show()"
   ]
  },
  {
   "cell_type": "code",
   "execution_count": null,
   "id": "5e47bc63-6d7e-4eb6-9dd1-a90999606292",
   "metadata": {},
   "outputs": [],
   "source": []
  }
 ],
 "metadata": {
  "kernelspec": {
   "display_name": "Python 3 (ipykernel)",
   "language": "python",
   "name": "python3"
  },
  "language_info": {
   "codemirror_mode": {
    "name": "ipython",
    "version": 3
   },
   "file_extension": ".py",
   "mimetype": "text/x-python",
   "name": "python",
   "nbconvert_exporter": "python",
   "pygments_lexer": "ipython3",
   "version": "3.10.6"
  }
 },
 "nbformat": 4,
 "nbformat_minor": 5
}
