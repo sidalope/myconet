{
 "cells": [
  {
   "cell_type": "markdown",
   "id": "8593fd44-33ac-41a6-8da7-d21ef957da39",
   "metadata": {
    "tags": []
   },
   "source": [
    "# Porcaccio Data Visualisations"
   ]
  },
  {
   "cell_type": "markdown",
   "id": "cf46c507-3ef0-4b3b-92d8-d8babac2b9e0",
   "metadata": {},
   "source": [
    "<break>"
   ]
  },
  {
   "cell_type": "markdown",
   "id": "fc4f1443-6111-4648-8baf-39d37228c96e",
   "metadata": {},
   "source": [
    "<break>"
   ]
  },
  {
   "cell_type": "code",
   "execution_count": null,
   "id": "9eb799ae-ef62-44be-9b73-87038108803b",
   "metadata": {},
   "outputs": [],
   "source": [
    "import os\n",
    "import pandas as pd\n",
    "import matplotlib.pyplot as plt\n",
    "from datetime import datetime"
   ]
  },
  {
   "cell_type": "markdown",
   "id": "28d4935f-de9a-4ee4-9507-8f1839b4090a",
   "metadata": {},
   "source": [
    "<break>\n",
    "<break>\n",
    "<break>"
   ]
  },
  {
   "cell_type": "markdown",
   "id": "44802b33-c87e-4f6f-933d-f9d9441fc6aa",
   "metadata": {},
   "source": [
    "#### Data Collection And Cleaning"
   ]
  },
  {
   "cell_type": "markdown",
   "id": "8ab61a6c-f0a5-48a3-85a4-d3a63948d7f9",
   "metadata": {},
   "source": [
    "---------\n"
   ]
  },
  {
   "cell_type": "markdown",
   "id": "595e30c0-7204-4340-9e57-f206c3e6c104",
   "metadata": {
    "tags": []
   },
   "source": [
    "##### Fix old date format"
   ]
  },
  {
   "cell_type": "code",
   "execution_count": null,
   "id": "51bd993c-f308-4f2b-baf4-81fc1ffa6029",
   "metadata": {
    "tags": []
   },
   "outputs": [],
   "source": [
    "# Clean and aggregate data\n",
    "\n",
    "def clean_and_aggregate(relative_directories):\n",
    "    dfs = []\n",
    "    for location in relative_directories:\n",
    "        for file in os.listdir(f\"{os.getcwd()}/{location}\"):\n",
    "            if file.endswith(\".csv\"):\n",
    "                buffer_df = pd.read_csv(f\"{os.getcwd()}/{location}/{file}\")\n",
    "                buffer_df.columns = ['time', 'co2(ppm)', 'temperature(°C)', 'rel_humidity(percent)']\n",
    "                buffer_df[\"co2(ppm)\"] = pd.to_numeric(buffer_df[\"co2(ppm)\"], errors=\"coerce\")\n",
    "                buffer_df[\"time\"] = buffer_df[\"time\"].apply(pd.to_datetime, args=(\"coerce\",))\n",
    "                buffer_df.set_index(\"time\", inplace=True)\n",
    "                dfs.append(buffer_df)\n",
    "    dfs = pd.concat(dfs)\n",
    "    dfs.sort_index(ascending=True, inplace=True)\n",
    "    return dfs"
   ]
  },
  {
   "cell_type": "markdown",
   "id": "ee341bde-4435-476a-8e8a-6c4d085761c6",
   "metadata": {},
   "source": [
    "<break>"
   ]
  },
  {
   "cell_type": "markdown",
   "id": "56499a4f-7945-430b-bd60-156f32473f2a",
   "metadata": {},
   "source": [
    "#### Aggregate Everything"
   ]
  },
  {
   "cell_type": "code",
   "execution_count": null,
   "id": "53cf880a-4a63-495e-ad28-85c5857631bc",
   "metadata": {
    "jupyter": {
     "outputs_hidden": true
    },
    "tags": []
   },
   "outputs": [],
   "source": [
    "dirs = [\"data/raw\"]\n",
    "df = clean_and_aggregate(dirs)\n",
    "df.info()"
   ]
  },
  {
   "cell_type": "markdown",
   "id": "bdf616ac-85ca-4c9c-a63a-e6736ff512e3",
   "metadata": {},
   "source": [
    "Output to file:"
   ]
  },
  {
   "cell_type": "code",
   "execution_count": null,
   "id": "5c482de5-1b3d-4688-8dda-e413f4f22142",
   "metadata": {},
   "outputs": [],
   "source": [
    "first = df.index[0].strftime(\"%Y%m%d-%H%M%S\")\n",
    "last = df.index[-1].strftime(\"%Y%m%d-%H%M%S\")\n",
    "df.to_csv(f\"data/everything_{first}_{last}.csv\")"
   ]
  },
  {
   "cell_type": "markdown",
   "id": "42939f3e-fa62-43f6-95ec-a81e975af899",
   "metadata": {},
   "source": [
    "<break>"
   ]
  },
  {
   "cell_type": "markdown",
   "id": "a48c9f02-8e3a-44d7-a51d-f5260be1bdfa",
   "metadata": {},
   "source": [
    "<break>"
   ]
  },
  {
   "cell_type": "markdown",
   "id": "e42dfc7a-66ff-42b6-b611-7b3a4beaf397",
   "metadata": {},
   "source": [
    "#### Visualisations"
   ]
  },
  {
   "cell_type": "markdown",
   "id": "88eebad2-3af8-44b5-81f6-8fab8cf58c08",
   "metadata": {},
   "source": [
    "---------"
   ]
  },
  {
   "cell_type": "code",
   "execution_count": null,
   "id": "33e79ed2-3496-4b4b-a43c-579329febf10",
   "metadata": {
    "tags": []
   },
   "outputs": [],
   "source": [
    "for column in df.columns:\n",
    "    plt.plot(df[column])\n",
    "    plt.title(column)\n",
    "    #plt.xticks(clean_df.index, [x.strftime(\"%d-%H:%M:%S\") for x in clean_df.index])\n",
    "    plt.savefig(f\"images/visualisations/{column}.png\", format=\"png\")\n",
    "    plt.show()"
   ]
  },
  {
   "cell_type": "code",
   "execution_count": null,
   "id": "99560857-e3e0-4ed9-a030-27bf87ada1ea",
   "metadata": {},
   "outputs": [],
   "source": []
  }
 ],
 "metadata": {
  "kernelspec": {
   "display_name": "Python 3 (ipykernel)",
   "language": "python",
   "name": "python3"
  },
  "language_info": {
   "codemirror_mode": {
    "name": "ipython",
    "version": 3
   },
   "file_extension": ".py",
   "mimetype": "text/x-python",
   "name": "python",
   "nbconvert_exporter": "python",
   "pygments_lexer": "ipython3",
   "version": "3.10.6"
  }
 },
 "nbformat": 4,
 "nbformat_minor": 5
}
